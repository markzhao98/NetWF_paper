{
 "cells": [
  {
   "cell_type": "markdown",
   "metadata": {},
   "source": [
    "# case study: Enron"
   ]
  },
  {
   "cell_type": "code",
   "execution_count": null,
   "metadata": {},
   "outputs": [],
   "source": [
    "from utils_WF import *\n",
    "from utils_Enron import *"
   ]
  },
  {
   "cell_type": "code",
   "execution_count": null,
   "metadata": {},
   "outputs": [],
   "source": [
    "# read from Enron-data\n",
    "\n",
    "enron = pd.read_csv('Enron-data/emails_processed.csv')  # obtained and processed from https://www.cs.cmu.edu/~enron/\n",
    "enron['Date'] = pd.to_datetime(enron['Date'])  # convert Date to datetime\n",
    "enron = enron[enron['From'] != enron['To']]  # remove self-to-self emails\n",
    "enron"
   ]
  },
  {
   "cell_type": "code",
   "execution_count": null,
   "metadata": {},
   "outputs": [],
   "source": [
    "employees = sorted(set(enron.From) | set(enron.To))\n",
    "employees"
   ]
  },
  {
   "cell_type": "code",
   "execution_count": null,
   "metadata": {},
   "outputs": [],
   "source": [
    "pos = pickle.load(open('Enron-data/pos.pkl', 'rb'))"
   ]
  },
  {
   "cell_type": "code",
   "execution_count": null,
   "metadata": {},
   "outputs": [],
   "source": [
    "# initialize a directed graph for the entire year\n",
    "G_total = nx.DiGraph()\n",
    "\n",
    "# add nodes (employees) to the graph\n",
    "G_total.add_nodes_from(employees)\n",
    "\n",
    "# add edges (email exchanges) with frequency as edge weight for the entire year\n",
    "for index, row in enron.iterrows():\n",
    "    if row['From'] in employees and row['To'] in employees:\n",
    "        if G_total.has_edge(row['From'], row['To']):\n",
    "            G_total[row['From']][row['To']]['weight'] += 1/12\n",
    "        else:\n",
    "            G_total.add_edge(row['From'], row['To'], weight=1/12)\n"
   ]
  },
  {
   "cell_type": "code",
   "execution_count": null,
   "metadata": {},
   "outputs": [],
   "source": [
    "plot_year(G_total, pos, 'Enron Email Network 2001', save=True)"
   ]
  },
  {
   "cell_type": "code",
   "execution_count": null,
   "metadata": {},
   "outputs": [],
   "source": [
    "G_total.number_of_nodes(), G_total.number_of_edges()"
   ]
  },
  {
   "cell_type": "code",
   "execution_count": null,
   "metadata": {},
   "outputs": [],
   "source": [
    "G_months = []\n",
    "A_months = []\n",
    "\n",
    "for month in range(1, 13):\n",
    "    G_month = nx.DiGraph()\n",
    "    G_month.add_nodes_from(G_total.nodes())\n",
    "    enron_month = enron[enron['Date'].dt.month == month]\n",
    "    for index, row in enron_month.iterrows():\n",
    "        if row['From'] in G_total.nodes() and row['To'] in G_total.nodes():\n",
    "            if G_month.has_edge(row['From'], row['To']):\n",
    "                G_month[row['From']][row['To']]['weight'] += 1\n",
    "            else:\n",
    "                G_month.add_edge(row['From'], row['To'], weight=1)\n",
    "    G_months.append(G_month)\n",
    "    A_months.append(nx.to_numpy_array(G_month, nodelist=employees))"
   ]
  },
  {
   "cell_type": "code",
   "execution_count": null,
   "metadata": {},
   "outputs": [],
   "source": [
    "plot_months(G_months, pos, 'Months_raw', save=True)"
   ]
  },
  {
   "cell_type": "code",
   "execution_count": null,
   "metadata": {},
   "outputs": [],
   "source": [
    "A_total = nx.to_numpy_array(G_total, nodelist=employees)\n",
    "\n",
    "np.save('Enron-data/results/A_total.npy', A_total)\n",
    "\n",
    "with open('Enron-data/results/A_months_raw.pkl', 'wb') as f:\n",
    "    pickle.dump(A_months, f)"
   ]
  },
  {
   "cell_type": "code",
   "execution_count": null,
   "metadata": {},
   "outputs": [],
   "source": [
    "a_months = [A_month.flatten() for A_month in A_months]\n",
    "covariance_matrix = np.cov(np.array(a_months).T)"
   ]
  },
  {
   "cell_type": "code",
   "execution_count": null,
   "metadata": {},
   "outputs": [],
   "source": [
    "A_months_filtered = []\n",
    "G_months_filtered = []\n",
    "\n",
    "num_days_each_month = [31, 28, 31, 30, 31, 30, 31, 31, 30, 31, 30, 31]\n",
    "\n",
    "for month in range(1, 13):\n",
    "\n",
    "    print(f\"Processing month {month}...\")\n",
    "\n",
    "    G_month = G_months[month-1]\n",
    "    A_month = A_months[month-1]\n",
    "\n",
    "    # Between-month noise covariance: estimated from between-month data.\n",
    "    covariance_matrix_month = covariance_matrix\n",
    "\n",
    "    # Filter\n",
    "    A_month_filtered = filter_small_cov(A_month, covariance_matrix_month, epsilon = 1e-6, onlypos=True, noSL=True)\n",
    "    A_months_filtered.append(A_month_filtered)\n",
    "\n",
    "    G_month_filtered = nx.from_numpy_array(A_month_filtered, create_using=nx.DiGraph)\n",
    "    G_month_filtered = nx.relabel_nodes(G_month_filtered, dict(enumerate(employees)))\n",
    "    G_months_filtered.append(G_month_filtered)"
   ]
  },
  {
   "cell_type": "code",
   "execution_count": null,
   "metadata": {},
   "outputs": [],
   "source": [
    "# plot G_months_filtered\n",
    "plot_year(G_month_filtered, pos, 'Months_filtered', save=False)"
   ]
  },
  {
   "cell_type": "code",
   "execution_count": null,
   "metadata": {},
   "outputs": [],
   "source": [
    "MSE(A_total, A_month_filtered)"
   ]
  },
  {
   "cell_type": "code",
   "execution_count": null,
   "metadata": {},
   "outputs": [],
   "source": [
    "plot_months(G_months_filtered, pos, 'Months_betw_new', save=True)"
   ]
  },
  {
   "cell_type": "code",
   "execution_count": null,
   "metadata": {},
   "outputs": [],
   "source": [
    "with open('Enron-data/results/A_months_betw_new.pkl', 'wb') as f:\n",
    "    pickle.dump(A_months_filtered, f)"
   ]
  },
  {
   "cell_type": "code",
   "execution_count": null,
   "metadata": {},
   "outputs": [],
   "source": [
    "A_months_filtered = []\n",
    "G_months_filtered = []\n",
    "\n",
    "num_days_each_month = [31, 28, 31, 30, 31, 30, 31, 31, 30, 31, 30, 31]\n",
    "\n",
    "for month in range(1, 13):\n",
    "\n",
    "    print(f\"Processing month {month}...\")\n",
    "\n",
    "    G_month = G_months[month-1]\n",
    "    A_month = A_months[month-1]\n",
    "\n",
    "    # Between-month noise covariance: using a naive diagonal ansatz.\n",
    "    covariance_matrix_month = np.diag([np.var(A_month) for _ in range(len(A_month.flatten()))])\n",
    "\n",
    "    # Filter\n",
    "    A_month_filtered = filter_small_cov(A_month, covariance_matrix_month, epsilon = 1e-6, onlypos=True, noSL=True, renorm=True)\n",
    "    A_months_filtered.append(A_month_filtered)\n",
    "\n",
    "    G_month_filtered = nx.from_numpy_array(A_month_filtered, create_using=nx.DiGraph)\n",
    "    G_month_filtered = nx.relabel_nodes(G_month_filtered, dict(enumerate(employees)))\n",
    "    G_months_filtered.append(G_month_filtered)"
   ]
  },
  {
   "cell_type": "code",
   "execution_count": null,
   "metadata": {},
   "outputs": [],
   "source": [
    "plot_months(G_months_filtered, pos, 'Months_diag_new', save=True)"
   ]
  },
  {
   "cell_type": "code",
   "execution_count": null,
   "metadata": {},
   "outputs": [],
   "source": [
    "with open('Enron-data/results/A_months_diag_new.pkl', 'wb') as f:\n",
    "    pickle.dump(A_months_filtered, f)"
   ]
  },
  {
   "cell_type": "code",
   "execution_count": null,
   "metadata": {},
   "outputs": [],
   "source": []
  },
  {
   "cell_type": "code",
   "execution_count": null,
   "metadata": {},
   "outputs": [],
   "source": []
  }
 ],
 "metadata": {
  "kernelspec": {
   "display_name": "network",
   "language": "python",
   "name": "python3"
  },
  "language_info": {
   "codemirror_mode": {
    "name": "ipython",
    "version": 3
   },
   "file_extension": ".py",
   "mimetype": "text/x-python",
   "name": "python",
   "nbconvert_exporter": "python",
   "pygments_lexer": "ipython3",
   "version": "3.11.7"
  }
 },
 "nbformat": 4,
 "nbformat_minor": 2
}
